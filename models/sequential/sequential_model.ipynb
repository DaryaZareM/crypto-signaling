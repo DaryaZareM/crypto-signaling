{
  "cells": [
    {
      "cell_type": "markdown",
      "metadata": {
        "id": "view-in-github"
      },
      "source": [
        "<a href=\"https://colab.research.google.com/github/lmoroney/dlaicourse/blob/master/TensorFlow%20In%20Practice/Course%203%20-%20NLP/Course%203%20-%20Week%202%20-%20Lesson%202.ipynb\" target=\"_parent\"><img src=\"https://colab.research.google.com/assets/colab-badge.svg\" alt=\"Open In Colab\"/></a>"
      ]
    },
    {
      "cell_type": "code",
      "execution_count": 2,
      "metadata": {
        "colab": {
          "base_uri": "https://localhost:8080/"
        },
        "id": "XhsDttn619Hw",
        "outputId": "190b8159-fdeb-4a01-e155-9bdc0b713f0f"
      },
      "outputs": [
        {
          "output_type": "stream",
          "name": "stdout",
          "text": [
            "Drive already mounted at /content/drive/; to attempt to forcibly remount, call drive.mount(\"/content/drive/\", force_remount=True).\n"
          ]
        }
      ],
      "source": [
        "from google.colab import drive\n",
        "drive.mount('/content/drive/')"
      ]
    },
    {
      "cell_type": "code",
      "execution_count": 3,
      "metadata": {
        "id": "WmYMMPmf3W2l"
      },
      "outputs": [],
      "source": [
        "import re\n",
        "import warnings\n",
        "import numpy as np\n",
        "import pandas as pd\n",
        "import tensorflow as tf\n",
        "from string import digits\n",
        "\n",
        "import math\n",
        "import pickle\n",
        "\n",
        "from collections import Counter"
      ]
    },
    {
      "cell_type": "code",
      "execution_count": 4,
      "metadata": {
        "colab": {
          "base_uri": "https://localhost:8080/"
        },
        "id": "n0AVpItE17_u",
        "outputId": "28833071-3d3b-4e6e-e745-5cfe1a2298f2"
      },
      "outputs": [
        {
          "output_type": "stream",
          "name": "stdout",
          "text": [
            "/content/drive/MyDrive/crypto-classifier/data\n",
            " 120_influ_total.json\t\t\t    lunarcrush_influencers\n",
            " 2000_crypto_sample.csv\t\t\t    model.pt\n",
            " 20coin_MC_lunarCrush_30days.csv\t    models\n",
            " 20coin_MC_lunarCrush_60days.csv\t    multy_platform\n",
            " all_tweets.v2.csv\t\t\t    new_sell.csv\n",
            " cardiffnlp\t\t\t\t    new_tag\n",
            "'classification_reports (1).gsheet'\t    old\n",
            " classification_reports.csv\t\t    parameter_tuning.csv\n",
            " classification_reports.gsheet\t\t    parameter_tuning.gsheet\n",
            " cleaned_dataset.csv\t\t\t    predict_crypto_keyword_2000.csv\n",
            " cleaned_dataset.pickle\t\t\t    predict_crypto_keyword_2000.xlsx\n",
            " cleaned_dataset_sell.pickle\t\t    reddit_data.csv\n",
            " cleanTweet_800.csv\t\t\t    relevant_crypto_TfidfVectorizer\n",
            " coinList_100.csv\t\t\t    Relevant_model\n",
            " coin_name.csv\t\t\t\t    result_data.zip\n",
            " crypto_augmented_features_relevant\t    sample_instagram_3000.v1.csv\n",
            " crypto_augmented_features_signal\t    sample_reddit_3000.v1.csv\n",
            " crypto_keyword_total.csv\t\t    stop_words_english.txt\n",
            " crypto_signal_model\t\t\t    tag3\n",
            " data_with_sell_keyword300.csv\t\t    tagged_tweets_v0.1.csv\n",
            " englishstop.txt\t\t\t    targetdir\n",
            " Figures\t\t\t\t    Top_100_coinMarketCap.csv\n",
            " hole_crowled146.csv\t\t\t    top_MCcoin_15.csv\n",
            " influencers_tweet_date_and_number.csv\t    twitter-xlm-roberta-base-sentiment\n",
            " influencers_tweet_date_and_number.gsheet   voting200.v1.csv\n",
            " insta_influencers.csv\t\t\t    voting200.v1.gsheet\n"
          ]
        }
      ],
      "source": [
        "# %cd 'drive/MyDrive/signal classifier models/lstm'\n",
        "%cd 'drive/MyDrive/crypto-classifier/data'\n",
        "!ls\n",
        "with open ('tag3/cleanTweet1000.pickle', 'rb') as fp:\n",
        "    dataset = pickle.load(fp)"
      ]
    },
    {
      "cell_type": "markdown",
      "metadata": {
        "id": "ChlNwP8v4RoW"
      },
      "source": [
        "# code"
      ]
    },
    {
      "cell_type": "code",
      "execution_count": 5,
      "metadata": {
        "id": "XYYDvoskkE61"
      },
      "outputs": [],
      "source": [
        "import pandas as pd\n",
        "import tensorflow as tf\n",
        "from tensorflow.keras.preprocessing.text import Tokenizer\n",
        "from tensorflow.keras.preprocessing.sequence import pad_sequences"
      ]
    },
    {
      "cell_type": "code",
      "source": [
        "dataset.columns\n",
        "dataset['signal']=dataset['signal'].apply(lambda x:'not buy' if x in ['sell','no signal','hold'] else x)\n",
        "print('signal categories: ',Counter(dataset['signal']))\n",
        "\n",
        "X = dataset['unicode_text_concat'].to_list()\n",
        "y = dataset['signal'].to_list()\n",
        "\n",
        "labels = {'not buy':0, 'buy':1}\n",
        "for i in range(len(y)):\n",
        "  dataset['signal'][i]=labels[dataset['signal'][i]]"
      ],
      "metadata": {
        "colab": {
          "base_uri": "https://localhost:8080/"
        },
        "id": "L0W3qwS63_4p",
        "outputId": "677c5042-7c68-4a0c-c711-df3f20b1b8b6"
      },
      "execution_count": 6,
      "outputs": [
        {
          "output_type": "stream",
          "name": "stdout",
          "text": [
            "signal categories:  Counter({'buy': 1089, 'not buy': 838})\n"
          ]
        },
        {
          "output_type": "stream",
          "name": "stderr",
          "text": [
            "<ipython-input-6-7850e67f7d8a>:10: SettingWithCopyWarning: \n",
            "A value is trying to be set on a copy of a slice from a DataFrame\n",
            "\n",
            "See the caveats in the documentation: https://pandas.pydata.org/pandas-docs/stable/user_guide/indexing.html#returning-a-view-versus-a-copy\n",
            "  dataset['signal'][i]=labels[dataset['signal'][i]]\n"
          ]
        }
      ]
    },
    {
      "cell_type": "code",
      "execution_count": 7,
      "metadata": {
        "colab": {
          "base_uri": "https://localhost:8080/"
        },
        "id": "JRx9i3HA5LxW",
        "outputId": "18abdb49-37ff-4f05-b99c-d978509b34cf"
      },
      "outputs": [
        {
          "output_type": "execute_result",
          "data": {
            "text/plain": [
              "array([1, 1, 1, ..., 1, 1, 0])"
            ]
          },
          "metadata": {},
          "execution_count": 7
        }
      ],
      "source": [
        "sentences = dataset.iloc[:, dataset.columns.get_loc('clean_text')].values\n",
        "labels = dataset.iloc[:,dataset.columns.get_loc('signal')].values\n",
        "\n",
        "sentences=sentences.astype(str)\n",
        "labels=labels.astype('int')\n",
        "\n",
        "labels"
      ]
    },
    {
      "cell_type": "markdown",
      "metadata": {
        "id": "hEeOGX2z2rXi"
      },
      "source": [
        "# preprocess"
      ]
    },
    {
      "cell_type": "code",
      "execution_count": 8,
      "metadata": {
        "colab": {
          "base_uri": "https://localhost:8080/"
        },
        "id": "J3eGB60W3I3t",
        "outputId": "82c05c4d-d4fc-4e35-bbea-d823ad0877fd"
      },
      "outputs": [
        {
          "output_type": "stream",
          "name": "stderr",
          "text": [
            "[nltk_data] Downloading package punkt to /root/nltk_data...\n",
            "[nltk_data]   Package punkt is already up-to-date!\n",
            "[nltk_data] Downloading package stopwords to /root/nltk_data...\n",
            "[nltk_data]   Package stopwords is already up-to-date!\n"
          ]
        }
      ],
      "source": [
        "import nltk\n",
        "nltk.download('punkt') # one time execution\n",
        "nltk.download('stopwords')\n",
        "from nltk.corpus import stopwords\n",
        "stop_words = set(stopwords.words('english'))"
      ]
    },
    {
      "cell_type": "code",
      "execution_count": 9,
      "metadata": {
        "id": "zlx1PR4I2qmM"
      },
      "outputs": [],
      "source": [
        "from nltk.tokenize import word_tokenize\n",
        "import re\n",
        "\n",
        "def clean_non_english(txt):\n",
        "    txt = re.sub(r'\\W+', ' ', txt)\n",
        "    txt = txt.lower()\n",
        "    txt = txt.replace(\"[^a-zA-Z]\", \" \")\n",
        "    word_tokens = word_tokenize(txt)\n",
        "    filtered_word = [w for w in word_tokens if all(ord(c) < 128 for c in w)]\n",
        "    filtered_word = [w + \" \" for w in filtered_word]\n",
        "    return \"\".join(filtered_word)\n",
        "\n",
        "\n",
        "def split_numbers_with_space(string):\n",
        "    return re.sub(r'(\\d+)', r' \\1 ', string)\n",
        "\n",
        "def replace_numbers_with_placeholder(string):\n",
        "    string_with_space = split_numbers_with_space(string)\n",
        "    return re.sub(r'\\d+', 'a_number', string_with_space)\n",
        "\n",
        "\n",
        "def clean_text(english_txt):\n",
        "\n",
        "    # lower case text\n",
        "    english_txt=english_txt.lower()\n",
        "\n",
        "    # initializing punctuations string\n",
        "    punc = '''!()-[]{};:'\"\\,<>./?%^&*_~'''\n",
        "\n",
        "    # Removing punctuations in string\n",
        "    english_txt.translate(str.maketrans('', '', punc))\n",
        "\n",
        "    english_txt = replace_numbers_with_placeholder(english_txt)\n",
        "\n",
        "    word_tokens = english_txt.split()\n",
        "    filtered_word = [w for w in word_tokens if not w in stop_words]\n",
        "    filtered_word = [w + \" \" for w in filtered_word]\n",
        "    return \"\".join(filtered_word)"
      ]
    },
    {
      "cell_type": "code",
      "execution_count": 10,
      "metadata": {
        "id": "HGCF6b8o3Xld"
      },
      "outputs": [],
      "source": [
        "dataset['clean_text']=dataset['clean_text'].apply(clean_text)"
      ]
    },
    {
      "cell_type": "code",
      "execution_count": 11,
      "metadata": {
        "colab": {
          "base_uri": "https://localhost:8080/",
          "height": 424
        },
        "id": "WzuPcorB3xJp",
        "outputId": "67147e64-e401-48b1-bd10-4b2f81cfdbf4"
      },
      "outputs": [
        {
          "output_type": "execute_result",
          "data": {
            "text/plain": [
              "                                             clean_text\n",
              "0     core philosophy revolve build ship product fin...\n",
              "1     today's bitcoin upsurge coincide bitfinex main...\n",
              "2     bitcoin world wbd a_number - colombia bitcoin ...\n",
              "3     high leverage crypto market crash #bitcoin $ a...\n",
              "4     feed print unlimited money pump market = good ...\n",
              "...                                                 ...\n",
              "1922  simon dixon mauricio bartlolomeo - swan signal...\n",
              "1923  ukraine ukrainian government raise $ a_number ...\n",
              "1924  number address hold a_number #bitcoin a_number...\n",
              "1925  condition 'ripe' bitcoin adoption amid geopoli...\n",
              "1926  people bury yfi realize andre work year a_numb...\n",
              "\n",
              "[1927 rows x 1 columns]"
            ],
            "text/html": [
              "\n",
              "  <div id=\"df-221fe230-081b-4ba4-8b97-ca5e81c31664\" class=\"colab-df-container\">\n",
              "    <div>\n",
              "<style scoped>\n",
              "    .dataframe tbody tr th:only-of-type {\n",
              "        vertical-align: middle;\n",
              "    }\n",
              "\n",
              "    .dataframe tbody tr th {\n",
              "        vertical-align: top;\n",
              "    }\n",
              "\n",
              "    .dataframe thead th {\n",
              "        text-align: right;\n",
              "    }\n",
              "</style>\n",
              "<table border=\"1\" class=\"dataframe\">\n",
              "  <thead>\n",
              "    <tr style=\"text-align: right;\">\n",
              "      <th></th>\n",
              "      <th>clean_text</th>\n",
              "    </tr>\n",
              "  </thead>\n",
              "  <tbody>\n",
              "    <tr>\n",
              "      <th>0</th>\n",
              "      <td>core philosophy revolve build ship product fin...</td>\n",
              "    </tr>\n",
              "    <tr>\n",
              "      <th>1</th>\n",
              "      <td>today's bitcoin upsurge coincide bitfinex main...</td>\n",
              "    </tr>\n",
              "    <tr>\n",
              "      <th>2</th>\n",
              "      <td>bitcoin world wbd a_number - colombia bitcoin ...</td>\n",
              "    </tr>\n",
              "    <tr>\n",
              "      <th>3</th>\n",
              "      <td>high leverage crypto market crash #bitcoin $ a...</td>\n",
              "    </tr>\n",
              "    <tr>\n",
              "      <th>4</th>\n",
              "      <td>feed print unlimited money pump market = good ...</td>\n",
              "    </tr>\n",
              "    <tr>\n",
              "      <th>...</th>\n",
              "      <td>...</td>\n",
              "    </tr>\n",
              "    <tr>\n",
              "      <th>1922</th>\n",
              "      <td>simon dixon mauricio bartlolomeo - swan signal...</td>\n",
              "    </tr>\n",
              "    <tr>\n",
              "      <th>1923</th>\n",
              "      <td>ukraine ukrainian government raise $ a_number ...</td>\n",
              "    </tr>\n",
              "    <tr>\n",
              "      <th>1924</th>\n",
              "      <td>number address hold a_number #bitcoin a_number...</td>\n",
              "    </tr>\n",
              "    <tr>\n",
              "      <th>1925</th>\n",
              "      <td>condition 'ripe' bitcoin adoption amid geopoli...</td>\n",
              "    </tr>\n",
              "    <tr>\n",
              "      <th>1926</th>\n",
              "      <td>people bury yfi realize andre work year a_numb...</td>\n",
              "    </tr>\n",
              "  </tbody>\n",
              "</table>\n",
              "<p>1927 rows × 1 columns</p>\n",
              "</div>\n",
              "    <div class=\"colab-df-buttons\">\n",
              "\n",
              "  <div class=\"colab-df-container\">\n",
              "    <button class=\"colab-df-convert\" onclick=\"convertToInteractive('df-221fe230-081b-4ba4-8b97-ca5e81c31664')\"\n",
              "            title=\"Convert this dataframe to an interactive table.\"\n",
              "            style=\"display:none;\">\n",
              "\n",
              "  <svg xmlns=\"http://www.w3.org/2000/svg\" height=\"24px\" viewBox=\"0 -960 960 960\">\n",
              "    <path d=\"M120-120v-720h720v720H120Zm60-500h600v-160H180v160Zm220 220h160v-160H400v160Zm0 220h160v-160H400v160ZM180-400h160v-160H180v160Zm440 0h160v-160H620v160ZM180-180h160v-160H180v160Zm440 0h160v-160H620v160Z\"/>\n",
              "  </svg>\n",
              "    </button>\n",
              "\n",
              "  <style>\n",
              "    .colab-df-container {\n",
              "      display:flex;\n",
              "      gap: 12px;\n",
              "    }\n",
              "\n",
              "    .colab-df-convert {\n",
              "      background-color: #E8F0FE;\n",
              "      border: none;\n",
              "      border-radius: 50%;\n",
              "      cursor: pointer;\n",
              "      display: none;\n",
              "      fill: #1967D2;\n",
              "      height: 32px;\n",
              "      padding: 0 0 0 0;\n",
              "      width: 32px;\n",
              "    }\n",
              "\n",
              "    .colab-df-convert:hover {\n",
              "      background-color: #E2EBFA;\n",
              "      box-shadow: 0px 1px 2px rgba(60, 64, 67, 0.3), 0px 1px 3px 1px rgba(60, 64, 67, 0.15);\n",
              "      fill: #174EA6;\n",
              "    }\n",
              "\n",
              "    .colab-df-buttons div {\n",
              "      margin-bottom: 4px;\n",
              "    }\n",
              "\n",
              "    [theme=dark] .colab-df-convert {\n",
              "      background-color: #3B4455;\n",
              "      fill: #D2E3FC;\n",
              "    }\n",
              "\n",
              "    [theme=dark] .colab-df-convert:hover {\n",
              "      background-color: #434B5C;\n",
              "      box-shadow: 0px 1px 3px 1px rgba(0, 0, 0, 0.15);\n",
              "      filter: drop-shadow(0px 1px 2px rgba(0, 0, 0, 0.3));\n",
              "      fill: #FFFFFF;\n",
              "    }\n",
              "  </style>\n",
              "\n",
              "    <script>\n",
              "      const buttonEl =\n",
              "        document.querySelector('#df-221fe230-081b-4ba4-8b97-ca5e81c31664 button.colab-df-convert');\n",
              "      buttonEl.style.display =\n",
              "        google.colab.kernel.accessAllowed ? 'block' : 'none';\n",
              "\n",
              "      async function convertToInteractive(key) {\n",
              "        const element = document.querySelector('#df-221fe230-081b-4ba4-8b97-ca5e81c31664');\n",
              "        const dataTable =\n",
              "          await google.colab.kernel.invokeFunction('convertToInteractive',\n",
              "                                                    [key], {});\n",
              "        if (!dataTable) return;\n",
              "\n",
              "        const docLinkHtml = 'Like what you see? Visit the ' +\n",
              "          '<a target=\"_blank\" href=https://colab.research.google.com/notebooks/data_table.ipynb>data table notebook</a>'\n",
              "          + ' to learn more about interactive tables.';\n",
              "        element.innerHTML = '';\n",
              "        dataTable['output_type'] = 'display_data';\n",
              "        await google.colab.output.renderOutput(dataTable, element);\n",
              "        const docLink = document.createElement('div');\n",
              "        docLink.innerHTML = docLinkHtml;\n",
              "        element.appendChild(docLink);\n",
              "      }\n",
              "    </script>\n",
              "  </div>\n",
              "\n",
              "\n",
              "<div id=\"df-6e193293-7686-44da-93e1-7ca343c8d774\">\n",
              "  <button class=\"colab-df-quickchart\" onclick=\"quickchart('df-6e193293-7686-44da-93e1-7ca343c8d774')\"\n",
              "            title=\"Suggest charts.\"\n",
              "            style=\"display:none;\">\n",
              "\n",
              "<svg xmlns=\"http://www.w3.org/2000/svg\" height=\"24px\"viewBox=\"0 0 24 24\"\n",
              "     width=\"24px\">\n",
              "    <g>\n",
              "        <path d=\"M19 3H5c-1.1 0-2 .9-2 2v14c0 1.1.9 2 2 2h14c1.1 0 2-.9 2-2V5c0-1.1-.9-2-2-2zM9 17H7v-7h2v7zm4 0h-2V7h2v10zm4 0h-2v-4h2v4z\"/>\n",
              "    </g>\n",
              "</svg>\n",
              "  </button>\n",
              "\n",
              "<style>\n",
              "  .colab-df-quickchart {\n",
              "      --bg-color: #E8F0FE;\n",
              "      --fill-color: #1967D2;\n",
              "      --hover-bg-color: #E2EBFA;\n",
              "      --hover-fill-color: #174EA6;\n",
              "      --disabled-fill-color: #AAA;\n",
              "      --disabled-bg-color: #DDD;\n",
              "  }\n",
              "\n",
              "  [theme=dark] .colab-df-quickchart {\n",
              "      --bg-color: #3B4455;\n",
              "      --fill-color: #D2E3FC;\n",
              "      --hover-bg-color: #434B5C;\n",
              "      --hover-fill-color: #FFFFFF;\n",
              "      --disabled-bg-color: #3B4455;\n",
              "      --disabled-fill-color: #666;\n",
              "  }\n",
              "\n",
              "  .colab-df-quickchart {\n",
              "    background-color: var(--bg-color);\n",
              "    border: none;\n",
              "    border-radius: 50%;\n",
              "    cursor: pointer;\n",
              "    display: none;\n",
              "    fill: var(--fill-color);\n",
              "    height: 32px;\n",
              "    padding: 0;\n",
              "    width: 32px;\n",
              "  }\n",
              "\n",
              "  .colab-df-quickchart:hover {\n",
              "    background-color: var(--hover-bg-color);\n",
              "    box-shadow: 0 1px 2px rgba(60, 64, 67, 0.3), 0 1px 3px 1px rgba(60, 64, 67, 0.15);\n",
              "    fill: var(--button-hover-fill-color);\n",
              "  }\n",
              "\n",
              "  .colab-df-quickchart-complete:disabled,\n",
              "  .colab-df-quickchart-complete:disabled:hover {\n",
              "    background-color: var(--disabled-bg-color);\n",
              "    fill: var(--disabled-fill-color);\n",
              "    box-shadow: none;\n",
              "  }\n",
              "\n",
              "  .colab-df-spinner {\n",
              "    border: 2px solid var(--fill-color);\n",
              "    border-color: transparent;\n",
              "    border-bottom-color: var(--fill-color);\n",
              "    animation:\n",
              "      spin 1s steps(1) infinite;\n",
              "  }\n",
              "\n",
              "  @keyframes spin {\n",
              "    0% {\n",
              "      border-color: transparent;\n",
              "      border-bottom-color: var(--fill-color);\n",
              "      border-left-color: var(--fill-color);\n",
              "    }\n",
              "    20% {\n",
              "      border-color: transparent;\n",
              "      border-left-color: var(--fill-color);\n",
              "      border-top-color: var(--fill-color);\n",
              "    }\n",
              "    30% {\n",
              "      border-color: transparent;\n",
              "      border-left-color: var(--fill-color);\n",
              "      border-top-color: var(--fill-color);\n",
              "      border-right-color: var(--fill-color);\n",
              "    }\n",
              "    40% {\n",
              "      border-color: transparent;\n",
              "      border-right-color: var(--fill-color);\n",
              "      border-top-color: var(--fill-color);\n",
              "    }\n",
              "    60% {\n",
              "      border-color: transparent;\n",
              "      border-right-color: var(--fill-color);\n",
              "    }\n",
              "    80% {\n",
              "      border-color: transparent;\n",
              "      border-right-color: var(--fill-color);\n",
              "      border-bottom-color: var(--fill-color);\n",
              "    }\n",
              "    90% {\n",
              "      border-color: transparent;\n",
              "      border-bottom-color: var(--fill-color);\n",
              "    }\n",
              "  }\n",
              "</style>\n",
              "\n",
              "  <script>\n",
              "    async function quickchart(key) {\n",
              "      const quickchartButtonEl =\n",
              "        document.querySelector('#' + key + ' button');\n",
              "      quickchartButtonEl.disabled = true;  // To prevent multiple clicks.\n",
              "      quickchartButtonEl.classList.add('colab-df-spinner');\n",
              "      try {\n",
              "        const charts = await google.colab.kernel.invokeFunction(\n",
              "            'suggestCharts', [key], {});\n",
              "      } catch (error) {\n",
              "        console.error('Error during call to suggestCharts:', error);\n",
              "      }\n",
              "      quickchartButtonEl.classList.remove('colab-df-spinner');\n",
              "      quickchartButtonEl.classList.add('colab-df-quickchart-complete');\n",
              "    }\n",
              "    (() => {\n",
              "      let quickchartButtonEl =\n",
              "        document.querySelector('#df-6e193293-7686-44da-93e1-7ca343c8d774 button');\n",
              "      quickchartButtonEl.style.display =\n",
              "        google.colab.kernel.accessAllowed ? 'block' : 'none';\n",
              "    })();\n",
              "  </script>\n",
              "</div>\n",
              "    </div>\n",
              "  </div>\n"
            ]
          },
          "metadata": {},
          "execution_count": 11
        }
      ],
      "source": [
        "dataset[['clean_text']]"
      ]
    },
    {
      "cell_type": "code",
      "execution_count": 12,
      "metadata": {
        "id": "0eJSTTYnkJQd"
      },
      "outputs": [],
      "source": [
        "vocab_size = 10000\n",
        "embedding_dim = 16\n",
        "max_length = 100\n",
        "trunc_type='post'\n",
        "padding_type='post'\n",
        "oov_tok = \"<OOV>\"\n",
        "training_size = 20000"
      ]
    },
    {
      "cell_type": "code",
      "execution_count": 13,
      "metadata": {
        "id": "S1sD-7v0kYWk"
      },
      "outputs": [],
      "source": [
        "from sklearn.model_selection import train_test_split\n",
        "training_sentences, testing_sentences, training_labels, testing_labels = train_test_split(sentences, labels, test_size = 0.20, random_state = 1)\n",
        "training_sentences, validation_sentences, training_labels, validation_labels = train_test_split(training_sentences, training_labels, test_size = 0.2, random_state = 1)\n"
      ]
    },
    {
      "cell_type": "code",
      "execution_count": 14,
      "metadata": {
        "id": "3u8UB0MCkZ5N"
      },
      "outputs": [],
      "source": [
        "tokenizer = Tokenizer(num_words=vocab_size, oov_token=oov_tok)\n",
        "tokenizer.fit_on_texts(training_sentences)\n",
        "\n",
        "word_index = tokenizer.word_index\n",
        "\n",
        "training_sequences = tokenizer.texts_to_sequences(training_sentences)\n",
        "training_padded = pad_sequences(training_sequences, maxlen=max_length, padding=padding_type, truncating=trunc_type)\n",
        "\n",
        "validation_sequences = tokenizer.texts_to_sequences(validation_sentences)\n",
        "validation_padded = pad_sequences(validation_sequences, maxlen=max_length, padding=padding_type, truncating=trunc_type)\n",
        "\n",
        "\n",
        "testing_sequences = tokenizer.texts_to_sequences(testing_sentences)\n",
        "testing_padded = pad_sequences(testing_sequences, maxlen=max_length, padding=padding_type, truncating=trunc_type)"
      ]
    },
    {
      "cell_type": "code",
      "execution_count": 15,
      "metadata": {
        "id": "GrAlWBKf99Ya"
      },
      "outputs": [],
      "source": [
        "# Need this block to get it to work with TensorFlow 2.x\n",
        "import numpy as np\n",
        "training_padded = np.array(training_padded)\n",
        "training_labels = np.array(training_labels)\n",
        "\n",
        "validation_padded = np.array(validation_padded)\n",
        "validation_labels = np.array(validation_labels)\n",
        "\n",
        "testing_padded = np.array(testing_padded)\n",
        "testing_labels = np.array(testing_labels)"
      ]
    },
    {
      "cell_type": "code",
      "source": [
        "import matplotlib.pyplot as plt\n",
        "\n",
        "\n",
        "def plot_graphs(history, string,file_name):\n",
        "\n",
        "    plt.plot(list(map(str, list(range(1, len(history.history[string])+1)))),history.history[string])\n",
        "    plt.plot(list(map(str, list(range(1, len(history.history[string])+1)))),history.history['val_'+string])\n",
        "    plt.xlabel(\"Epochs\")\n",
        "    plt.ylabel(string)\n",
        "    plt.legend([string, 'val_'+string])\n",
        "    plt.savefig(f'Figures/{file_name}.png', dpi=1080)\n",
        "    plt.show()\n",
        ""
      ],
      "metadata": {
        "id": "p88xtOJp9SQu"
      },
      "execution_count": 16,
      "outputs": []
    },
    {
      "cell_type": "markdown",
      "metadata": {
        "id": "vpzeX0U3PZ9T"
      },
      "source": [
        "Multiple Layer LSTM"
      ]
    },
    {
      "cell_type": "code",
      "execution_count": 175,
      "metadata": {
        "id": "n15kaj5pPWH8"
      },
      "outputs": [],
      "source": [
        "model = tf.keras.Sequential([\n",
        "    tf.keras.layers.Embedding(vocab_size, 16),\n",
        "    tf.keras.layers.Bidirectional(tf.keras.layers.LSTM(64, return_sequences=True)),\n",
        "    tf.keras.layers.Bidirectional(tf.keras.layers.LSTM(32)),\n",
        "    tf.keras.layers.Dense(64, activation='relu'),\n",
        "    tf.keras.layers.Dense(1, activation='sigmoid')\n",
        "])"
      ]
    },
    {
      "cell_type": "code",
      "execution_count": 176,
      "metadata": {
        "colab": {
          "base_uri": "https://localhost:8080/"
        },
        "id": "6SJaunA01lQ-",
        "outputId": "fb9a5695-e2dd-4f82-d664-19a7467404e9"
      },
      "outputs": [
        {
          "output_type": "stream",
          "name": "stdout",
          "text": [
            "Model: \"sequential_31\"\n",
            "_________________________________________________________________\n",
            " Layer (type)                Output Shape              Param #   \n",
            "=================================================================\n",
            " embedding_31 (Embedding)    (None, None, 16)          160000    \n",
            "                                                                 \n",
            " bidirectional_20 (Bidirect  (None, None, 128)         41472     \n",
            " ional)                                                          \n",
            "                                                                 \n",
            " bidirectional_21 (Bidirect  (None, 64)                41216     \n",
            " ional)                                                          \n",
            "                                                                 \n",
            " dense_62 (Dense)            (None, 64)                4160      \n",
            "                                                                 \n",
            " dense_63 (Dense)            (None, 1)                 65        \n",
            "                                                                 \n",
            "=================================================================\n",
            "Total params: 246913 (964.50 KB)\n",
            "Trainable params: 246913 (964.50 KB)\n",
            "Non-trainable params: 0 (0.00 Byte)\n",
            "_________________________________________________________________\n"
          ]
        }
      ],
      "source": [
        "model.summary()"
      ]
    },
    {
      "cell_type": "code",
      "execution_count": 177,
      "metadata": {
        "id": "bNJjw6xwPmfH"
      },
      "outputs": [],
      "source": [
        "model.compile(loss='binary_crossentropy', optimizer='adam', metrics=['accuracy'])"
      ]
    },
    {
      "cell_type": "code",
      "execution_count": 178,
      "metadata": {
        "colab": {
          "base_uri": "https://localhost:8080/"
        },
        "id": "TQParzORPqyW",
        "outputId": "5022a8b2-3e86-4a28-c841-863e20eaad28"
      },
      "outputs": [
        {
          "output_type": "stream",
          "name": "stdout",
          "text": [
            "Epoch 1/20\n",
            "39/39 - 20s - loss: 0.6877 - accuracy: 0.5674 - val_loss: 0.6782 - val_accuracy: 0.5922 - 20s/epoch - 515ms/step\n",
            "Epoch 2/20\n",
            "39/39 - 4s - loss: 0.6710 - accuracy: 0.5836 - val_loss: 0.6562 - val_accuracy: 0.6019 - 4s/epoch - 114ms/step\n",
            "Epoch 3/20\n",
            "39/39 - 5s - loss: 0.3831 - accuracy: 0.8523 - val_loss: 0.7447 - val_accuracy: 0.6311 - 5s/epoch - 135ms/step\n",
            "Epoch 4/20\n",
            "39/39 - 3s - loss: 0.1682 - accuracy: 0.9448 - val_loss: 1.0623 - val_accuracy: 0.6084 - 3s/epoch - 69ms/step\n",
            "Epoch 5/20\n",
            "39/39 - 2s - loss: 0.0984 - accuracy: 0.9667 - val_loss: 1.0342 - val_accuracy: 0.6246 - 2s/epoch - 45ms/step\n",
            "Epoch 6/20\n",
            "39/39 - 2s - loss: 0.0809 - accuracy: 0.9716 - val_loss: 1.0331 - val_accuracy: 0.6602 - 2s/epoch - 60ms/step\n",
            "Epoch 7/20\n",
            "39/39 - 3s - loss: 0.0645 - accuracy: 0.9789 - val_loss: 1.0540 - val_accuracy: 0.6052 - 3s/epoch - 72ms/step\n",
            "Epoch 8/20\n",
            "39/39 - 2s - loss: 0.0710 - accuracy: 0.9756 - val_loss: 1.1757 - val_accuracy: 0.6343 - 2s/epoch - 49ms/step\n",
            "Epoch 9/20\n",
            "39/39 - 1s - loss: 0.0639 - accuracy: 0.9756 - val_loss: 1.1550 - val_accuracy: 0.6084 - 1s/epoch - 35ms/step\n",
            "Epoch 10/20\n",
            "39/39 - 1s - loss: 0.0555 - accuracy: 0.9789 - val_loss: 0.9896 - val_accuracy: 0.6311 - 1s/epoch - 36ms/step\n",
            "Epoch 11/20\n",
            "39/39 - 2s - loss: 0.0485 - accuracy: 0.9789 - val_loss: 1.0130 - val_accuracy: 0.6472 - 2s/epoch - 50ms/step\n",
            "Epoch 12/20\n",
            "39/39 - 1s - loss: 0.0549 - accuracy: 0.9765 - val_loss: 1.0988 - val_accuracy: 0.6311 - 1s/epoch - 26ms/step\n",
            "Epoch 13/20\n",
            "39/39 - 1s - loss: 0.0457 - accuracy: 0.9797 - val_loss: 1.1696 - val_accuracy: 0.5922 - 1s/epoch - 32ms/step\n",
            "Epoch 14/20\n",
            "39/39 - 1s - loss: 0.0414 - accuracy: 0.9789 - val_loss: 1.0532 - val_accuracy: 0.6084 - 1s/epoch - 33ms/step\n",
            "Epoch 15/20\n",
            "39/39 - 2s - loss: 0.0433 - accuracy: 0.9773 - val_loss: 1.0748 - val_accuracy: 0.6311 - 2s/epoch - 44ms/step\n",
            "Epoch 16/20\n",
            "39/39 - 2s - loss: 0.0381 - accuracy: 0.9781 - val_loss: 1.2964 - val_accuracy: 0.6278 - 2s/epoch - 52ms/step\n",
            "Epoch 17/20\n",
            "39/39 - 2s - loss: 0.0441 - accuracy: 0.9740 - val_loss: 1.1614 - val_accuracy: 0.6343 - 2s/epoch - 45ms/step\n",
            "Epoch 18/20\n",
            "39/39 - 1s - loss: 0.0357 - accuracy: 0.9789 - val_loss: 1.1734 - val_accuracy: 0.6440 - 983ms/epoch - 25ms/step\n",
            "Epoch 19/20\n",
            "39/39 - 1s - loss: 0.0365 - accuracy: 0.9789 - val_loss: 1.2721 - val_accuracy: 0.6214 - 872ms/epoch - 22ms/step\n",
            "Epoch 20/20\n",
            "39/39 - 1s - loss: 0.0334 - accuracy: 0.9797 - val_loss: 1.2633 - val_accuracy: 0.6181 - 1s/epoch - 29ms/step\n"
          ]
        }
      ],
      "source": [
        "NUM_EPOCHS = 20\n",
        "history = model.fit(training_padded, training_labels, epochs=NUM_EPOCHS, validation_data=(validation_padded, validation_labels), verbose=2)"
      ]
    },
    {
      "cell_type": "code",
      "execution_count": 179,
      "metadata": {
        "colab": {
          "base_uri": "https://localhost:8080/",
          "height": 1000
        },
        "id": "khm26MaNvd_g",
        "outputId": "cac875a5-2904-4642-f4c9-cce67dcf000d"
      },
      "outputs": [
        {
          "output_type": "stream",
          "name": "stdout",
          "text": [
            "13/13 [==============================] - 2s 11ms/step\n",
            "              precision    recall  f1-score   support\n",
            "\n",
            "           0       0.61      0.54      0.58       179\n",
            "           1       0.64      0.71      0.67       207\n",
            "\n",
            "    accuracy                           0.63       386\n",
            "   macro avg       0.63      0.62      0.62       386\n",
            "weighted avg       0.63      0.63      0.63       386\n",
            "\n"
          ]
        },
        {
          "output_type": "display_data",
          "data": {
            "text/plain": [
              "<Figure size 640x480 with 1 Axes>"
            ],
            "image/png": "[encoded data removed]"
          },
          "metadata": {}
        },
        {
          "output_type": "display_data",
          "data": {
            "text/plain": [
              "<Figure size 640x480 with 1 Axes>"
            ],
            "image/png": "[encoded data removed]"
          },
          "metadata": {}
        }
      ],
      "source": [
        "from sklearn.metrics import classification_report\n",
        "testing_pred=np.round(model.predict(testing_padded))\n",
        "print(classification_report(testing_labels, testing_pred))\n",
        "\n",
        "\n",
        "plot_graphs(history, 'accuracy','lstm16_acc')\n",
        "plot_graphs(history, 'loss','lstm16_loss')"
      ]
    },
    {
      "cell_type": "markdown",
      "metadata": {
        "id": "hbha-4Dpi8fO"
      },
      "source": [
        "convolutional NN"
      ]
    },
    {
      "cell_type": "code",
      "execution_count": 190,
      "metadata": {
        "id": "emsG7Gq7i8L5"
      },
      "outputs": [],
      "source": [
        "modelc = tf.keras.Sequential([\n",
        "    tf.keras.layers.Embedding(vocab_size, 16),\n",
        "    tf.keras.layers.Conv1D(128, 5, activation='relu'),\n",
        "    tf.keras.layers.GlobalAveragePooling1D(),\n",
        "    tf.keras.layers.Dense(64, activation='relu'),\n",
        "    tf.keras.layers.Dense(1, activation='sigmoid')\n",
        "])"
      ]
    },
    {
      "cell_type": "code",
      "execution_count": 191,
      "metadata": {
        "id": "T1wTyxFo1lRB",
        "outputId": "f01ac089-8fec-406e-aae4-1b527e629951",
        "colab": {
          "base_uri": "https://localhost:8080/"
        }
      },
      "outputs": [
        {
          "output_type": "stream",
          "name": "stdout",
          "text": [
            "Model: \"sequential_34\"\n",
            "_________________________________________________________________\n",
            " Layer (type)                Output Shape              Param #   \n",
            "=================================================================\n",
            " embedding_34 (Embedding)    (None, None, 16)          160000    \n",
            "                                                                 \n",
            " conv1d_19 (Conv1D)          (None, None, 128)         10368     \n",
            "                                                                 \n",
            " global_average_pooling1d_2  (None, 128)               0         \n",
            " 3 (GlobalAveragePooling1D)                                      \n",
            "                                                                 \n",
            " dense_68 (Dense)            (None, 64)                8256      \n",
            "                                                                 \n",
            " dense_69 (Dense)            (None, 1)                 65        \n",
            "                                                                 \n",
            "=================================================================\n",
            "Total params: 178689 (698.00 KB)\n",
            "Trainable params: 178689 (698.00 KB)\n",
            "Non-trainable params: 0 (0.00 Byte)\n",
            "_________________________________________________________________\n"
          ]
        }
      ],
      "source": [
        "modelc.summary()"
      ]
    },
    {
      "cell_type": "code",
      "execution_count": 192,
      "metadata": {
        "id": "RNbs9dMUjyVU"
      },
      "outputs": [],
      "source": [
        "modelc.compile(loss='binary_crossentropy', optimizer='adam', metrics=['accuracy'])"
      ]
    },
    {
      "cell_type": "code",
      "execution_count": 193,
      "metadata": {
        "colab": {
          "base_uri": "https://localhost:8080/"
        },
        "id": "Wxxyw8Lpi8A9",
        "outputId": "444a85ad-81fb-4b1e-9361-6c526a498cf7"
      },
      "outputs": [
        {
          "output_type": "stream",
          "name": "stdout",
          "text": [
            "Epoch 1/20\n",
            "39/39 - 7s - loss: 0.6869 - accuracy: 0.5674 - val_loss: 0.6781 - val_accuracy: 0.5922 - 7s/epoch - 191ms/step\n",
            "Epoch 2/20\n",
            "39/39 - 4s - loss: 0.6823 - accuracy: 0.5674 - val_loss: 0.6754 - val_accuracy: 0.5922 - 4s/epoch - 107ms/step\n",
            "Epoch 3/20\n",
            "39/39 - 4s - loss: 0.6494 - accuracy: 0.5933 - val_loss: 0.6584 - val_accuracy: 0.6019 - 4s/epoch - 114ms/step\n",
            "Epoch 4/20\n",
            "39/39 - 3s - loss: 0.4887 - accuracy: 0.8174 - val_loss: 0.6706 - val_accuracy: 0.6084 - 3s/epoch - 65ms/step\n",
            "Epoch 5/20\n",
            "39/39 - 2s - loss: 0.2598 - accuracy: 0.9302 - val_loss: 0.7322 - val_accuracy: 0.6246 - 2s/epoch - 49ms/step\n",
            "Epoch 6/20\n",
            "39/39 - 1s - loss: 0.1461 - accuracy: 0.9602 - val_loss: 0.8301 - val_accuracy: 0.6278 - 1s/epoch - 36ms/step\n",
            "Epoch 7/20\n",
            "39/39 - 2s - loss: 0.1142 - accuracy: 0.9635 - val_loss: 0.9061 - val_accuracy: 0.6214 - 2s/epoch - 41ms/step\n",
            "Epoch 8/20\n",
            "39/39 - 1s - loss: 0.0886 - accuracy: 0.9732 - val_loss: 0.9405 - val_accuracy: 0.6440 - 728ms/epoch - 19ms/step\n",
            "Epoch 9/20\n",
            "39/39 - 1s - loss: 0.0803 - accuracy: 0.9716 - val_loss: 0.9820 - val_accuracy: 0.6311 - 712ms/epoch - 18ms/step\n",
            "Epoch 10/20\n",
            "39/39 - 1s - loss: 0.0748 - accuracy: 0.9692 - val_loss: 1.0352 - val_accuracy: 0.6537 - 927ms/epoch - 24ms/step\n",
            "Epoch 11/20\n",
            "39/39 - 1s - loss: 0.0767 - accuracy: 0.9692 - val_loss: 1.0882 - val_accuracy: 0.6343 - 975ms/epoch - 25ms/step\n",
            "Epoch 12/20\n",
            "39/39 - 2s - loss: 0.0666 - accuracy: 0.9716 - val_loss: 1.0646 - val_accuracy: 0.6181 - 2s/epoch - 45ms/step\n",
            "Epoch 13/20\n",
            "39/39 - 1s - loss: 0.0666 - accuracy: 0.9732 - val_loss: 1.0787 - val_accuracy: 0.6311 - 860ms/epoch - 22ms/step\n",
            "Epoch 14/20\n",
            "39/39 - 1s - loss: 0.0607 - accuracy: 0.9756 - val_loss: 1.0755 - val_accuracy: 0.6311 - 724ms/epoch - 19ms/step\n",
            "Epoch 15/20\n",
            "39/39 - 1s - loss: 0.0552 - accuracy: 0.9756 - val_loss: 1.1138 - val_accuracy: 0.6343 - 600ms/epoch - 15ms/step\n",
            "Epoch 16/20\n",
            "39/39 - 1s - loss: 0.0550 - accuracy: 0.9797 - val_loss: 1.0939 - val_accuracy: 0.6472 - 642ms/epoch - 16ms/step\n",
            "Epoch 17/20\n",
            "39/39 - 1s - loss: 0.0554 - accuracy: 0.9773 - val_loss: 1.1263 - val_accuracy: 0.6214 - 789ms/epoch - 20ms/step\n",
            "Epoch 18/20\n",
            "39/39 - 0s - loss: 0.0495 - accuracy: 0.9748 - val_loss: 1.1351 - val_accuracy: 0.6311 - 461ms/epoch - 12ms/step\n",
            "Epoch 19/20\n",
            "39/39 - 0s - loss: 0.0466 - accuracy: 0.9773 - val_loss: 1.1351 - val_accuracy: 0.6278 - 187ms/epoch - 5ms/step\n",
            "Epoch 20/20\n",
            "39/39 - 1s - loss: 0.0493 - accuracy: 0.9765 - val_loss: 1.1503 - val_accuracy: 0.6440 - 879ms/epoch - 23ms/step\n"
          ]
        }
      ],
      "source": [
        "NUM_EPOCHS = 20\n",
        "history = modelc.fit(training_padded, training_labels, epochs=NUM_EPOCHS, validation_data=(validation_padded, validation_labels), verbose=2)"
      ]
    },
    {
      "cell_type": "code",
      "source": [
        "from sklearn.metrics import classification_report\n",
        "testing_pred=np.round(modelc.predict(testing_padded))\n",
        "print(classification_report(testing_labels, testing_pred))\n",
        "\n",
        "\n",
        "plot_graphs(history, 'accuracy','conv16_acc')\n",
        "plot_graphs(history, 'loss','conv16_loss')"
      ],
      "metadata": {
        "colab": {
          "base_uri": "https://localhost:8080/",
          "height": 1000
        },
        "id": "Ehf8dgx18z2t",
        "outputId": "4c235253-b6e9-436b-f720-a053e82b8c31"
      },
      "execution_count": 194,
      "outputs": [
        {
          "output_type": "stream",
          "name": "stdout",
          "text": [
            "13/13 [==============================] - 0s 5ms/step\n",
            "              precision    recall  f1-score   support\n",
            "\n",
            "           0       0.60      0.61      0.60       179\n",
            "           1       0.66      0.64      0.65       207\n",
            "\n",
            "    accuracy                           0.63       386\n",
            "   macro avg       0.63      0.63      0.63       386\n",
            "weighted avg       0.63      0.63      0.63       386\n",
            "\n"
          ]
        },
        {
          "output_type": "display_data",
          "data": {
            "text/plain": [
              "<Figure size 640x480 with 1 Axes>"
            ],
            "image/png": "[encoded data removed]"
          },
          "metadata": {}
        },
        {
          "output_type": "display_data",
          "data": {
            "text/plain": [
              "<Figure size 640x480 with 1 Axes>"
            ],
            "image/png": "[encoded data removed]"
          },
          "metadata": {}
        }
      ]
    },
    {
      "cell_type": "markdown",
      "metadata": {
        "id": "QInt9-I6PeTc"
      },
      "source": [
        "sequential"
      ]
    },
    {
      "cell_type": "code",
      "execution_count": 27,
      "metadata": {
        "id": "FufaT4vlkiDE"
      },
      "outputs": [],
      "source": [
        "model = tf.keras.Sequential([\n",
        "    tf.keras.layers.Embedding(vocab_size, 64, input_length=max_length),\n",
        "    tf.keras.layers.GlobalAveragePooling1D(),\n",
        "    tf.keras.layers.Dense(24, activation='relu'),\n",
        "    tf.keras.layers.Dense(1, activation='sigmoid')\n",
        "])\n",
        "model.compile(loss='binary_crossentropy',optimizer='adam',metrics=['accuracy'])"
      ]
    },
    {
      "cell_type": "code",
      "execution_count": 28,
      "metadata": {
        "colab": {
          "base_uri": "https://localhost:8080/"
        },
        "id": "XfDt1hmYkiys",
        "outputId": "d93ece07-2afe-4a4d-fa48-332c5e30f058"
      },
      "outputs": [
        {
          "output_type": "stream",
          "name": "stdout",
          "text": [
            "Model: \"sequential_2\"\n",
            "_________________________________________________________________\n",
            " Layer (type)                Output Shape              Param #   \n",
            "=================================================================\n",
            " embedding_2 (Embedding)     (None, 100, 64)           640000    \n",
            "                                                                 \n",
            " global_average_pooling1d_2  (None, 64)                0         \n",
            "  (GlobalAveragePooling1D)                                       \n",
            "                                                                 \n",
            " dense_4 (Dense)             (None, 24)                1560      \n",
            "                                                                 \n",
            " dense_5 (Dense)             (None, 1)                 25        \n",
            "                                                                 \n",
            "=================================================================\n",
            "Total params: 641585 (2.45 MB)\n",
            "Trainable params: 641585 (2.45 MB)\n",
            "Non-trainable params: 0 (0.00 Byte)\n",
            "_________________________________________________________________\n"
          ]
        }
      ],
      "source": [
        "model.summary()"
      ]
    },
    {
      "cell_type": "code",
      "execution_count": 29,
      "metadata": {
        "colab": {
          "base_uri": "https://localhost:8080/"
        },
        "id": "2DTKQFf1kkyc",
        "outputId": "20018625-473e-412f-865f-ea4f2c6a064b"
      },
      "outputs": [
        {
          "output_type": "stream",
          "name": "stdout",
          "text": [
            "Epoch 1/20\n",
            "39/39 - 10s - loss: 0.6882 - accuracy: 0.5633 - val_loss: 0.6801 - val_accuracy: 0.5922 - 10s/epoch - 253ms/step\n",
            "Epoch 2/20\n",
            "39/39 - 7s - loss: 0.6827 - accuracy: 0.5674 - val_loss: 0.6768 - val_accuracy: 0.5922 - 7s/epoch - 178ms/step\n",
            "Epoch 3/20\n",
            "39/39 - 5s - loss: 0.6794 - accuracy: 0.5674 - val_loss: 0.6755 - val_accuracy: 0.5922 - 5s/epoch - 140ms/step\n",
            "Epoch 4/20\n",
            "39/39 - 3s - loss: 0.6710 - accuracy: 0.5674 - val_loss: 0.6721 - val_accuracy: 0.5922 - 3s/epoch - 64ms/step\n",
            "Epoch 5/20\n",
            "39/39 - 3s - loss: 0.6519 - accuracy: 0.5755 - val_loss: 0.6661 - val_accuracy: 0.5922 - 3s/epoch - 75ms/step\n",
            "Epoch 6/20\n",
            "39/39 - 2s - loss: 0.6124 - accuracy: 0.6567 - val_loss: 0.6578 - val_accuracy: 0.5955 - 2s/epoch - 54ms/step\n",
            "Epoch 7/20\n",
            "39/39 - 2s - loss: 0.5449 - accuracy: 0.7752 - val_loss: 0.6466 - val_accuracy: 0.6149 - 2s/epoch - 54ms/step\n",
            "Epoch 8/20\n",
            "39/39 - 3s - loss: 0.4632 - accuracy: 0.8847 - val_loss: 0.6390 - val_accuracy: 0.5987 - 3s/epoch - 66ms/step\n",
            "Epoch 9/20\n",
            "39/39 - 1s - loss: 0.3742 - accuracy: 0.9213 - val_loss: 0.6411 - val_accuracy: 0.6019 - 1s/epoch - 37ms/step\n",
            "Epoch 10/20\n",
            "39/39 - 1s - loss: 0.2960 - accuracy: 0.9407 - val_loss: 0.6489 - val_accuracy: 0.6149 - 1s/epoch - 32ms/step\n",
            "Epoch 11/20\n",
            "39/39 - 1s - loss: 0.2457 - accuracy: 0.9472 - val_loss: 0.6709 - val_accuracy: 0.6181 - 1s/epoch - 27ms/step\n",
            "Epoch 12/20\n",
            "39/39 - 1s - loss: 0.1969 - accuracy: 0.9554 - val_loss: 0.6773 - val_accuracy: 0.6084 - 1s/epoch - 38ms/step\n",
            "Epoch 13/20\n",
            "39/39 - 1s - loss: 0.1641 - accuracy: 0.9627 - val_loss: 0.7237 - val_accuracy: 0.6214 - 817ms/epoch - 21ms/step\n",
            "Epoch 14/20\n",
            "39/39 - 1s - loss: 0.1455 - accuracy: 0.9610 - val_loss: 0.7177 - val_accuracy: 0.6149 - 1s/epoch - 26ms/step\n",
            "Epoch 15/20\n",
            "39/39 - 0s - loss: 0.1201 - accuracy: 0.9692 - val_loss: 0.7556 - val_accuracy: 0.6343 - 164ms/epoch - 4ms/step\n",
            "Epoch 16/20\n",
            "39/39 - 1s - loss: 0.1083 - accuracy: 0.9692 - val_loss: 0.7612 - val_accuracy: 0.6375 - 1s/epoch - 28ms/step\n",
            "Epoch 17/20\n",
            "39/39 - 2s - loss: 0.1010 - accuracy: 0.9683 - val_loss: 0.7680 - val_accuracy: 0.6375 - 2s/epoch - 42ms/step\n",
            "Epoch 18/20\n",
            "39/39 - 1s - loss: 0.0880 - accuracy: 0.9748 - val_loss: 0.7798 - val_accuracy: 0.6214 - 646ms/epoch - 17ms/step\n",
            "Epoch 19/20\n",
            "39/39 - 2s - loss: 0.0805 - accuracy: 0.9724 - val_loss: 0.7935 - val_accuracy: 0.6246 - 2s/epoch - 48ms/step\n",
            "Epoch 20/20\n",
            "39/39 - 1s - loss: 0.0744 - accuracy: 0.9740 - val_loss: 0.8156 - val_accuracy: 0.6117 - 948ms/epoch - 24ms/step\n"
          ]
        }
      ],
      "source": [
        "num_epochs = 20\n",
        "history = model.fit(training_padded, training_labels, epochs=num_epochs, validation_data=(validation_padded, validation_labels), verbose=2)"
      ]
    },
    {
      "cell_type": "code",
      "execution_count": 30,
      "metadata": {
        "colab": {
          "base_uri": "https://localhost:8080/",
          "height": 1000
        },
        "id": "2HYfBKXjkmU8",
        "outputId": "6bea916c-416e-41ad-e53c-1c2cc9b0d5a3"
      },
      "outputs": [
        {
          "output_type": "stream",
          "name": "stdout",
          "text": [
            "13/13 [==============================] - 0s 2ms/step\n",
            "              precision    recall  f1-score   support\n",
            "\n",
            "           0       0.71      0.47      0.57       179\n",
            "           1       0.65      0.84      0.73       207\n",
            "\n",
            "    accuracy                           0.67       386\n",
            "   macro avg       0.68      0.65      0.65       386\n",
            "weighted avg       0.68      0.67      0.65       386\n",
            "\n"
          ]
        },
        {
          "output_type": "display_data",
          "data": {
            "text/plain": [
              "<Figure size 640x480 with 1 Axes>"
            ],
            "image/png": "[encoded data removed]"
          },
          "metadata": {}
        },
        {
          "output_type": "display_data",
          "data": {
            "text/plain": [
              "<Figure size 640x480 with 1 Axes>"
            ],
            "image/png": "[encoded data removed]"
          },
          "metadata": {}
        }
      ],
      "source": [
        "testing_pred=np.round(model.predict(testing_padded))\n",
        "print(classification_report(testing_labels, testing_pred))\n",
        "\n",
        "plot_graphs(history, \"accuracy\",'seq64_acc')\n",
        "plot_graphs(history, \"loss\",'seq64_loss')"
      ]
    },
    {
      "cell_type": "code",
      "execution_count": null,
      "metadata": {
        "colab": {
          "base_uri": "https://localhost:8080/"
        },
        "id": "7SBdAZAenvzL",
        "outputId": "a73ba76c-ec14-422d-984d-50f90c711b4c"
      },
      "outputs": [
        {
          "name": "stdout",
          "output_type": "stream",
          "text": [
            "remov section 230 stand presid trump call representative🇺🇲🇺🇲🇺🇲🇺🇲🇺🇲bigtechelectioninterferencebigtechstandwithpresidenttrump 🇺🇲🇺🇲🇺🇲🇺🇲🇺🇲 ? ? ? ? ? ? ? ? ? ? ? ? ? ? ? ? ? ? ? ? ? ? ? ? ? ? ? ? ? ? ? ? ? ? ? ? ? ? ? ? ? ? ? ? ? ? ? ? ? ? ? ? ? ? ? ? ? ? ? ? ? ? ? ? ? ? ? ? ? ? ? ? ? ? ? ? ? ? ? ? ? ? ? ? ? ? ? ? ? ? ?\n",
            "ban frack fact— kamala harri octob 8 2020aug 31 2020 – “i ban frack let say ban frack matter mani time donald trump lie me” –\n",
            "1\n"
          ]
        }
      ],
      "source": [
        "reverse_word_index = dict([(value, key) for (key, value) in word_index.items()])\n",
        "\n",
        "def decode_sentence(text):\n",
        "    return ' '.join([reverse_word_index.get(i, '?') for i in text])\n",
        "\n",
        "print(decode_sentence(training_padded[0]))\n",
        "print(training_sentences[2])\n",
        "print(labels[2])"
      ]
    },
    {
      "cell_type": "code",
      "execution_count": null,
      "metadata": {
        "id": "cG8-ArY-qDcz"
      },
      "outputs": [],
      "source": [
        "sentence = [\"granny starting to fear spiders in the garden might be real\", \"game of thrones season finale showing this sunday night\"]\n",
        "sequences = tokenizer.texts_to_sequences(sentence)\n",
        "padded = pad_sequences(sequences, maxlen=max_length, padding=padding_type, truncating=trunc_type)\n",
        "print(model.predict(padded))"
      ]
    }
  ],
  "metadata": {
    "accelerator": "GPU",
    "colab": {
      "provenance": []
    },
    "kernelspec": {
      "display_name": "Python 3",
      "language": "python",
      "name": "python3"
    },
    "language_info": {
      "codemirror_mode": {
        "name": "ipython",
        "version": 3
      },
      "file_extension": ".py",
      "mimetype": "text/x-python",
      "name": "python",
      "nbconvert_exporter": "python",
      "pygments_lexer": "ipython3",
      "version": "3.7.7"
    }
  },
  "nbformat": 4,
  "nbformat_minor": 0
}